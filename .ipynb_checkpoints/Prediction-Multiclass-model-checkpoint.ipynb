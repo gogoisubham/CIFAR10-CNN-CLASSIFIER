{
 "cells": [
  {
   "cell_type": "code",
   "execution_count": 35,
   "id": "7f3b16de-56d1-47d4-bfb3-0236fdad47d7",
   "metadata": {
    "tags": []
   },
   "outputs": [],
   "source": [
    "from tensorflow.keras.models import load_model\n",
    "from image_preprocessing import preprocess_multiclass\n",
    "import numpy as np\n",
    "\n",
    "loaded_multiclass_model = load_model('multiclass-model.h5')"
   ]
  },
  {
   "cell_type": "markdown",
   "id": "f93c653a-c1d5-431f-aa0f-35fb6f135549",
   "metadata": {},
   "source": [
    "### Prediction on a single image"
   ]
  },
  {
   "cell_type": "code",
   "execution_count": 171,
   "id": "3fb399e5-2235-4b03-90f0-84a09ed0ac72",
   "metadata": {
    "tags": []
   },
   "outputs": [
    {
     "name": "stdout",
     "output_type": "stream",
     "text": [
      "1/1 [==============================] - 0s 10ms/step\n",
      "Predicted class: Bird\n",
      "Test loss on Bird_2.jpg - 0.015\n",
      "Test accuracy on Bird_2.jpg - 1.0\n"
     ]
    }
   ],
   "source": [
    "import os\n",
    "from PIL import Image\n",
    "from sklearn.metrics import accuracy_score\n",
    "\n",
    "image_path = '/Users/subhamgogoi/Pictures/testImages-multiClass/Bird/Bird_2.jpg'\n",
    "img_name = os.path.basename(image_path)\n",
    "image = Image.open(image_path)\n",
    "\n",
    "image = image.resize((32,32))\n",
    "image_array = np.array(image)\n",
    "image_array = image_array / 255.0\n",
    "image_array = np.reshape(image_array, (1,32,32,3))\n",
    "\n",
    "prediction = loaded_multiclass_model.predict(image_array)\n",
    "predicted_class = np.argmax(prediction)\n",
    "class_names = ['Airplane', 'Car', 'Bird', 'Cat', 'Deer', 'Dog', 'Frog', 'Horse', 'Ship', 'Truck']\n",
    "class_index = {class_name:i for i, class_name in enumerate(class_names)}\n",
    "print(f\"Predicted class: {class_names[predicted_class]}\")\n",
    "# print(f'Class indices - {class_index}')\n",
    "\n",
    "# Evaluate loss and accuracy\n",
    "true_class_name = os.path.basename(os.path.dirname(image_path))\n",
    "true_class_index = class_index[true_class_name]\n",
    "true_class_index_hotencoded = tf.keras.utils.to_categorical(true_class_index, num_classes=10)\n",
    "true_class_index_hotencoded = np.reshape(true_class_index_hotencoded, (1,10))\n",
    "\n",
    "loss = tf.keras.losses.categorical_crossentropy(true_class_index_hotencoded, prediction)\n",
    "print(f'Test loss on {img_name} - {loss[0]:.3f}')\n",
    "\n",
    "accuracy = accuracy_score([true_class_index], [predicted_class])\n",
    "print(f'Test accuracy on {img_name} - {accuracy}')"
   ]
  },
  {
   "cell_type": "code",
   "execution_count": 172,
   "id": "73a895f7-88b2-4e99-a7b7-74d601b72792",
   "metadata": {
    "tags": []
   },
   "outputs": [
    {
     "name": "stdout",
     "output_type": "stream",
     "text": [
      "Airplane : 0.0084\n",
      "Car : 0.0001\n",
      "Bird : 0.9849\n",
      "Cat : 0.0022\n",
      "Deer : 0.0003\n",
      "Dog : 0.0038\n",
      "Frog : 0.0002\n",
      "Horse : 0.0001\n",
      "Ship : 0.0000\n",
      "Truck : 0.0000\n"
     ]
    }
   ],
   "source": [
    "# print(prediction)\n",
    "\n",
    "for i, prob in enumerate(prediction[0]):\n",
    "    print(f\"{class_names[i]} : {prob:.4f}\")"
   ]
  },
  {
   "cell_type": "markdown",
   "id": "703d758c-1ebc-471e-8ae1-ff183144c2ca",
   "metadata": {},
   "source": [
    "### Prediction on a batch of images"
   ]
  },
  {
   "cell_type": "code",
   "execution_count": 36,
   "id": "aff49362-2593-41bb-bef9-ba984a90f80e",
   "metadata": {
    "tags": []
   },
   "outputs": [
    {
     "name": "stdout",
     "output_type": "stream",
     "text": [
      "Populated 66 images\n"
     ]
    },
    {
     "name": "stderr",
     "output_type": "stream",
     "text": [
      "2024-09-02 12:41:52.751020: I tensorflow/core/grappler/optimizers/custom_graph_optimizer_registry.cc:114] Plugin optimizer for device_type GPU is enabled.\n"
     ]
    },
    {
     "name": "stdout",
     "output_type": "stream",
     "text": [
      "3/3 [==============================] - 1s 26ms/step\n",
      "Cat_1.jpg is predicted as: Frog\n",
      "Cat_2.jpg is predicted as: Dog\n",
      "cat_3.jpg is predicted as: Cat\n",
      "cat_7.jpg is predicted as: Deer\n",
      "cat_6.jpg is predicted as: Frog\n",
      "cat_4.jpg is predicted as: Cat\n",
      "cat_5.jpg is predicted as: Cat\n",
      "car_7.jpg is predicted as: Car\n",
      "car_6.jpg is predicted as: Car\n",
      "car_4.jpg is predicted as: Car\n",
      "car_5.jpg is predicted as: Car\n",
      "Car_1.jpg is predicted as: Truck\n",
      "car_2.jpg is predicted as: Deer\n",
      "car_3.jpg is predicted as: Car\n",
      "dog_9.jpg is predicted as: Dog\n",
      "dog_8.jpg is predicted as: Deer\n",
      "dog_6.jpg is predicted as: Dog\n",
      "dog_7.jpg is predicted as: Dog\n",
      "dog_5.jpg is predicted as: Dog\n",
      "dog_4.jpg is predicted as: Dog\n",
      "dog_1.jpg is predicted as: Airplane\n",
      "dog_3.jpg is predicted as: Deer\n",
      "dog_2.jpg is predicted as: Dog\n",
      "truck_6.jpg is predicted as: Truck\n",
      "truck_5.jpg is predicted as: Truck\n",
      "truck_4.jpg is predicted as: Airplane\n",
      "truck_1.jpg is predicted as: Car\n",
      "truck_3.jpg is predicted as: Truck\n",
      "truck_2.jpg is predicted as: Truck\n",
      "Bird_5.jpg is predicted as: Bird\n",
      "Bird_4.jpg is predicted as: Bird\n",
      "Bird_6.jpg is predicted as: Deer\n",
      "Bird_3.jpg is predicted as: Deer\n",
      "Bird_2.jpg is predicted as: Bird\n",
      "Bird_1.jpg is predicted as: Airplane\n",
      "airplane_3.jpg is predicted as: Deer\n",
      "airplane_2.jpg is predicted as: Airplane\n",
      "Airplane_1.jpg is predicted as: Airplane\n",
      "airplane_5.jpg is predicted as: Airplane\n",
      "airplane_4.jpg is predicted as: Airplane\n",
      "airplane_6.jpg is predicted as: Airplane\n",
      "airplane_7.jpg is predicted as: Airplane\n",
      "airplane_8.jpg is predicted as: Airplane\n",
      "ship_6.jpg is predicted as: Airplane\n",
      "ship_4.jpg is predicted as: Ship\n",
      "ship_5.jpg is predicted as: Ship\n",
      "ship_1.jpg is predicted as: Deer\n",
      "ship_2.jpg is predicted as: Airplane\n",
      "ship_3.jpg is predicted as: Airplane\n",
      "frog_2.jpg is predicted as: Frog\n",
      "frog_3.jpg is predicted as: Frog\n",
      "frog_1.jpg is predicted as: Truck\n",
      "frog_4.jpg is predicted as: Frog\n",
      "frog_5.jpg is predicted as: Frog\n",
      "horse_1.jpg is predicted as: Horse\n",
      "horse_2.jpg is predicted as: Dog\n",
      "horse_3.jpg is predicted as: Truck\n",
      "horse_6.jpg is predicted as: Horse\n",
      "horse_4.jpg is predicted as: Horse\n",
      "horse_5.jpg is predicted as: Horse\n",
      "deer_5.jpg is predicted as: Deer\n",
      "deer_4.jpg is predicted as: Deer\n",
      "deer_7.jpg is predicted as: Deer\n",
      "deer_3.jpg is predicted as: Deer\n",
      "deer_2.jpg is predicted as: Frog\n",
      "deer_1.jpg is predicted as: Frog\n"
     ]
    }
   ],
   "source": [
    "# Preprocess the images\n",
    "image_dir = '/Users/subhamgogoi/Pictures/testImages-multiClass'\n",
    "image_batch, filenames = preprocess_multiclass(image_dir)\n",
    "\n",
    "# Make predictions on the batch\n",
    "predictions = loaded_multiclass_model.predict(image_batch)\n",
    "\n",
    "# Define CIFAR-10 class names\n",
    "class_names = ['Airplane', 'Car', 'Bird', 'Cat', 'Deer', 'Dog', 'Frog', 'Horse', 'Ship', 'Truck']\n",
    "\n",
    "# Interpret and print predictions\n",
    "predicted_classes = np.argmax(predictions, axis=1)\n",
    "for pred_class, filename in zip(predicted_classes, filenames):\n",
    "    print(f\"{filename} is predicted as: {class_names[pred_class]}\")"
   ]
  },
  {
   "cell_type": "markdown",
   "id": "23ace129-1f56-4081-8eca-d95fc8747a59",
   "metadata": {},
   "source": [
    "### Evaluate loss and accuracy"
   ]
  },
  {
   "cell_type": "code",
   "execution_count": 37,
   "id": "60bcadb3-8259-41ff-a4d7-86c012e9e270",
   "metadata": {},
   "outputs": [],
   "source": [
    "from sklearn.metrics import accuracy_score\n",
    "from image_labelling import auto_label_images\n",
    "import tensorflow as tf\n",
    "\n",
    "parent_dir = '/Users/subhamgogoi/Pictures/testImages-multiClass'\n",
    "true_labels, filenames = auto_label_images(parent_dir)\n",
    "\n",
    "true_labels_hot_encoded = tf.keras.utils.to_categorical(true_labels, num_classes=10)"
   ]
  },
  {
   "cell_type": "code",
   "execution_count": 38,
   "id": "f74775b5-58b1-4ebf-aa38-20e07bbcaf13",
   "metadata": {
    "tags": []
   },
   "outputs": [],
   "source": [
    "# Check if the labels are correctly assigned to the images\n",
    "# for filename, label in zip(filenames, true_labels):\n",
    "#     print(f\"{filename} : {label}\")"
   ]
  },
  {
   "cell_type": "code",
   "execution_count": 39,
   "id": "0e819ed8-7037-4fd9-9637-f1f5e25f32fd",
   "metadata": {
    "tags": []
   },
   "outputs": [
    {
     "name": "stdout",
     "output_type": "stream",
     "text": [
      "Loss: 8.005\n",
      "Test accuracy : 9.09 %\n"
     ]
    }
   ],
   "source": [
    "import tensorflow as tf\n",
    "\n",
    "loss = tf.keras.losses.categorical_crossentropy(true_labels_hot_encoded, predictions).numpy().mean()\n",
    "print(f\"Loss: {loss:.3f}\")\n",
    "\n",
    "test_acc = accuracy_score(true_labels, predicted_classes)\n",
    "print(f\"Test accuracy : {test_acc * 100 :.2f} %\")"
   ]
  },
  {
   "cell_type": "code",
   "execution_count": 40,
   "id": "f16fd35b-b7eb-4012-99e5-2596518e4c3b",
   "metadata": {
    "tags": []
   },
   "outputs": [
    {
     "name": "stdout",
     "output_type": "stream",
     "text": [
      "Cat:7\n",
      "Car:7\n",
      "Dog:9\n",
      "Truck:6\n",
      "Bird:6\n",
      "Airplane:8\n",
      "Ship:6\n",
      "Frog:5\n",
      "Horse:6\n",
      "Deer:6\n"
     ]
    }
   ],
   "source": [
    "import os\n",
    "from collections import defaultdict\n",
    "\n",
    "def count_images_per_class(image_dir):\n",
    "    class_counts = defaultdict(int)\n",
    "\n",
    "    # Traverse the directory and count images in each class subdirectory\n",
    "    for class_name in os.listdir(image_dir):\n",
    "        class_dir = os.path.join(image_dir, class_name)\n",
    "        if os.path.isdir(class_dir):\n",
    "            for filename in os.listdir(class_dir):\n",
    "                if filename.endswith(('.jpg', '.jpeg', '.png')):\n",
    "                    class_counts[class_name] += 1\n",
    "\n",
    "    return class_counts\n",
    "\n",
    "class_counts = count_images_per_class('/Users/subhamgogoi/Pictures/testImages-multiClass')\n",
    "\n",
    "for class_name, count in class_counts.items():\n",
    "    print(f\"{class_name}:{count}\")"
   ]
  }
 ],
 "metadata": {
  "kernelspec": {
   "display_name": "Python 3 (ipykernel)",
   "language": "python",
   "name": "python3"
  },
  "language_info": {
   "codemirror_mode": {
    "name": "ipython",
    "version": 3
   },
   "file_extension": ".py",
   "mimetype": "text/x-python",
   "name": "python",
   "nbconvert_exporter": "python",
   "pygments_lexer": "ipython3",
   "version": "3.8.16"
  }
 },
 "nbformat": 4,
 "nbformat_minor": 5
}
