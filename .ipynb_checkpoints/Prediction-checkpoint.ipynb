{
 "cells": [
  {
   "cell_type": "markdown",
   "id": "dc7989b6-991d-4af8-a1c5-b83f549dc279",
   "metadata": {},
   "source": [
    "### _Prediction on new unseen data_"
   ]
  },
  {
   "cell_type": "code",
   "execution_count": 58,
   "id": "ba65c67a-4d9d-42e2-82a7-01d803276fee",
   "metadata": {
    "tags": []
   },
   "outputs": [
    {
     "name": "stdout",
     "output_type": "stream",
     "text": [
      "Found 6899 images belonging to 8 classes.\n",
      "  5/216 [..............................] - ETA: 3s "
     ]
    },
    {
     "name": "stderr",
     "output_type": "stream",
     "text": [
      "2024-08-21 12:30:45.179793: I tensorflow/core/grappler/optimizers/custom_graph_optimizer_registry.cc:114] Plugin optimizer for device_type GPU is enabled.\n"
     ]
    },
    {
     "name": "stdout",
     "output_type": "stream",
     "text": [
      "216/216 [==============================] - 8s 37ms/step\n",
      "Confusion Matrix:\n",
      "[[321 406   0   0   0   0   0   0]\n",
      " [963   5   0   0   0   0   0   0]\n",
      " [873  12   0   0   0   0   0   0]\n",
      " [692  10   0   0   0   0   0   0]\n",
      " [790  53   0   0   0   0   0   0]\n",
      " [983  17   0   0   0   0   0   0]\n",
      " [613 175   0   0   0   0   0   0]\n",
      " [986   0   0   0   0   0   0   0]]\n",
      "\n",
      "Classification Report:\n",
      "              precision    recall  f1-score   support\n",
      "\n",
      "    airplane       0.05      0.44      0.09       727\n",
      "         car       0.01      0.01      0.01       968\n",
      "         cat       0.00      0.00      0.00       885\n",
      "         dog       0.00      0.00      0.00       702\n",
      "      flower       0.00      0.00      0.00       843\n",
      "       fruit       0.00      0.00      0.00      1000\n",
      "   motorbike       0.00      0.00      0.00       788\n",
      "      person       0.00      0.00      0.00       986\n",
      "\n",
      "    accuracy                           0.05      6899\n",
      "   macro avg       0.01      0.06      0.01      6899\n",
      "weighted avg       0.01      0.05      0.01      6899\n",
      "\n"
     ]
    },
    {
     "name": "stderr",
     "output_type": "stream",
     "text": [
      "/Users/subhamgogoi/tensorflow-test/env/lib/python3.8/site-packages/sklearn/metrics/_classification.py:1469: UndefinedMetricWarning: Precision and F-score are ill-defined and being set to 0.0 in labels with no predicted samples. Use `zero_division` parameter to control this behavior.\n",
      "  _warn_prf(average, modifier, msg_start, len(result))\n",
      "/Users/subhamgogoi/tensorflow-test/env/lib/python3.8/site-packages/sklearn/metrics/_classification.py:1469: UndefinedMetricWarning: Precision and F-score are ill-defined and being set to 0.0 in labels with no predicted samples. Use `zero_division` parameter to control this behavior.\n",
      "  _warn_prf(average, modifier, msg_start, len(result))\n",
      "/Users/subhamgogoi/tensorflow-test/env/lib/python3.8/site-packages/sklearn/metrics/_classification.py:1469: UndefinedMetricWarning: Precision and F-score are ill-defined and being set to 0.0 in labels with no predicted samples. Use `zero_division` parameter to control this behavior.\n",
      "  _warn_prf(average, modifier, msg_start, len(result))\n",
      "2024-08-21 12:30:53.371867: I tensorflow/core/grappler/optimizers/custom_graph_optimizer_registry.cc:114] Plugin optimizer for device_type GPU is enabled.\n"
     ]
    },
    {
     "name": "stdout",
     "output_type": "stream",
     "text": [
      "216/216 [==============================] - 8s 37ms/step - loss: 25.1035 - accuracy: 0.0473\n",
      "Model test loss: 25.103525161743164\n",
      "Model test accuracy: 0.04725322499871254\n"
     ]
    }
   ],
   "source": [
    "# Import necessary packages\n",
    "import os\n",
    "import numpy as np\n",
    "from tensorflow.keras.models import load_model\n",
    "from tensorflow.keras.preprocessing.image import ImageDataGenerator\n",
    "from sklearn.metrics import confusion_matrix, classification_report\n",
    "\n",
    "# Load the model\n",
    "model = load_model('cifar10-binary-model.h5')\n",
    "\n",
    "# Define the path to the dataset directory\n",
    "dataset_dir = '/Users/subhamgogoi/Pictures/Natural-Images/data/natural_images'\n",
    "\n",
    "# Define class labels (binary labels: 1 for airplane, 0 for not airplane)\n",
    "class_labels = {\n",
    "    'airplane': 1,\n",
    "    'car': 0,\n",
    "    'cat': 0,\n",
    "    'dog': 0,\n",
    "    'flower': 0,\n",
    "    'fruit': 0,\n",
    "    'motorbike': 0,\n",
    "    'person': 0\n",
    "}\n",
    "\n",
    "# Create an ImageDataGenerator for prediction\n",
    "datagen = ImageDataGenerator(rescale=1./255)\n",
    "\n",
    "# Create a generator for the dataset\n",
    "generator = datagen.flow_from_directory(\n",
    "    dataset_dir,\n",
    "    target_size=(32, 32),\n",
    "    batch_size=32,\n",
    "    class_mode='binary',\n",
    "    shuffle=False\n",
    ")\n",
    "\n",
    "# Predict using the generator\n",
    "predictions = model.predict(generator, steps=len(generator), verbose=1)\n",
    "\n",
    "# Since it's binary classification, use a threshold to map predictions to class labels\n",
    "predicted_classes = (predictions > 0.5).astype(\"int32\").flatten()\n",
    "\n",
    "# Get true labels directly from the generator\n",
    "true_classes = generator.classes\n",
    "\n",
    "# Evaluate the model using confusion matrix and classification report\n",
    "print(\"Confusion Matrix:\")\n",
    "print(confusion_matrix(true_classes, predicted_classes))\n",
    "print(\"\\nClassification Report:\")\n",
    "print(classification_report(true_classes, predicted_classes, target_names=list(class_labels.keys())))\n",
    "\n",
    "# Evaluate the model\n",
    "loss, accuracy = model.evaluate(generator, steps=len(generator), verbose=1)\n",
    "print(f\"Model test loss: {loss}\")\n",
    "print(f\"Model test accuracy: {accuracy}\")"
   ]
  },
  {
   "cell_type": "code",
   "execution_count": null,
   "id": "bfc99b84-e380-44e1-b966-4b74a2ca4a60",
   "metadata": {},
   "outputs": [],
   "source": []
  }
 ],
 "metadata": {
  "kernelspec": {
   "display_name": "Python 3 (ipykernel)",
   "language": "python",
   "name": "python3"
  },
  "language_info": {
   "codemirror_mode": {
    "name": "ipython",
    "version": 3
   },
   "file_extension": ".py",
   "mimetype": "text/x-python",
   "name": "python",
   "nbconvert_exporter": "python",
   "pygments_lexer": "ipython3",
   "version": "3.8.16"
  }
 },
 "nbformat": 4,
 "nbformat_minor": 5
}
