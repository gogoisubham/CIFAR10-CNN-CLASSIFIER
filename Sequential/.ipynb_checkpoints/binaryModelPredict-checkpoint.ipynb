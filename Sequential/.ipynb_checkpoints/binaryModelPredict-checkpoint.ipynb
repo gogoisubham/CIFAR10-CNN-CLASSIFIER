{
 "cells": [
  {
   "cell_type": "markdown",
   "id": "dc7989b6-991d-4af8-a1c5-b83f549dc279",
   "metadata": {
    "tags": []
   },
   "source": [
    "## _Prediction on new unseen data_"
   ]
  },
  {
   "cell_type": "code",
   "execution_count": 4,
   "id": "ba65c67a-4d9d-42e2-82a7-01d803276fee",
   "metadata": {
    "tags": []
   },
   "outputs": [],
   "source": [
    "import os\n",
    "import numpy as np\n",
    "import tensorflow as tf\n",
    "from tensorflow.keras.models import load_model\n",
    "from sklearn.metrics import accuracy_score\n",
    "from PIL import Image\n",
    "from image_preprocessing import preprocess_binaryclass"
   ]
  },
  {
   "cell_type": "code",
   "execution_count": 5,
   "id": "73afec2f-a2ad-403e-9e8a-eeec75d8308e",
   "metadata": {},
   "outputs": [],
   "source": [
    "loaded_model = load_model('/Users/subhamgogoi/Coding/Jupyter/Projects/CIFAR10-CNN-Classifier/Sequential/binary-model.h5')"
   ]
  },
  {
   "cell_type": "markdown",
   "id": "271207b1-5ad5-4d09-9500-7f4ccaebafe4",
   "metadata": {},
   "source": [
    "### Prediction on a single image"
   ]
  },
  {
   "cell_type": "code",
   "execution_count": 11,
   "id": "bfc99b84-e380-44e1-b966-4b74a2ca4a60",
   "metadata": {},
   "outputs": [
    {
     "name": "stdout",
     "output_type": "stream",
     "text": [
      "1/1 [==============================] - 0s 14ms/step\n",
      "Cat_2.jpg is NOT an Airplane.\n",
      "Prediction probability: 0.0113\n"
     ]
    }
   ],
   "source": [
    "# Load the image \n",
    "img_path = \"/Users/subhamgogoi/Pictures/Test-Images-BinaryClass/Cat_2.jpg\"\n",
    "filename = os.path.basename(img_path)\n",
    "image = Image.open(img_path)\n",
    "\n",
    "# Preprocess the image\n",
    "image = image.resize((32,32)) #resize \n",
    "image_array = np.array(image) / 255.0 #Normalize\n",
    "image_array = np.reshape(image_array, (1,32,32,3)) #reshape \n",
    "\n",
    "# Make prediction\n",
    "prediction = loaded_model.predict(image_array)\n",
    "\n",
    "# Step 5: Interpret the prediction\n",
    "if prediction[0] > 0.5:\n",
    "    print(f\"{filename} is an Airplane.\")\n",
    "else:\n",
    "    print(f\"{filename} is NOT an Airplane.\")\n",
    "    \n",
    "print(f\"Prediction probability: {prediction[0][0]:.4f}\")"
   ]
  },
  {
   "cell_type": "code",
   "execution_count": 13,
   "id": "803a1bd2-3c6f-496d-a73d-3876fafb1ca6",
   "metadata": {
    "tags": []
   },
   "outputs": [
    {
     "name": "stdout",
     "output_type": "stream",
     "text": [
      "Loss for the single image prediction: 0.01137\n",
      "Accuracy for the single image prediction: 1\n"
     ]
    }
   ],
   "source": [
    "# Evaluate loss and accuracy of the model on a 'single' image\n",
    "true_label = np.array([0])  # Airplane: 1 , Non-Airplane: 0\n",
    "\n",
    "loss = tf.keras.losses.binary_crossentropy(true_label, prediction)\n",
    "print(f'Loss for the single image prediction: {loss[0]:.5f}')\n",
    "\n",
    "predicted_class = (prediction[0] > 0.5).astype(int)\n",
    "accuracy = (predicted_class == true_label).astype(int)\n",
    "\n",
    "print(f\"Accuracy for the single image prediction: {accuracy[0]}\")"
   ]
  },
  {
   "cell_type": "markdown",
   "id": "32b6ff6c-2a8a-46e5-8d59-9b2266db01c2",
   "metadata": {},
   "source": [
    "### Prediction on a batch of images"
   ]
  },
  {
   "cell_type": "code",
   "execution_count": 14,
   "id": "a2be5300-e748-4ca7-acd9-c85d48c32cb5",
   "metadata": {},
   "outputs": [
    {
     "name": "stdout",
     "output_type": "stream",
     "text": [
      "Populated 28 images\n",
      "1/1 [==============================] - 0s 51ms/step\n",
      "Motorcycle_1.jpg is NOT an Airplane.\n",
      "\n",
      "Motorcycle_2.jpg is NOT an Airplane.\n",
      "\n",
      "motorcycle_3.jpg is NOT an Airplane.\n",
      "\n",
      "motorcycle_6.jpg is an Airplane.\n",
      "\n",
      "motorcycle_4.jpg is NOT an Airplane.\n",
      "\n",
      "motorcycle_5.jpg is NOT an Airplane.\n",
      "\n",
      "airplane_3.jpg is an Airplane.\n",
      "\n",
      "airplane_2.jpg is an Airplane.\n",
      "\n",
      "Airplane_1.jpg is an Airplane.\n",
      "\n",
      "airplane_5.jpg is an Airplane.\n",
      "\n",
      "airplane_4.jpg is an Airplane.\n",
      "\n",
      "airplane_6.jpg is an Airplane.\n",
      "\n",
      "airplane_7.jpg is an Airplane.\n",
      "\n",
      "girl_6.jpg is NOT an Airplane.\n",
      "\n",
      "Cat_1.jpg is NOT an Airplane.\n",
      "\n",
      "girl_5.jpg is NOT an Airplane.\n",
      "\n",
      "Cat_2.jpg is NOT an Airplane.\n",
      "\n",
      "cat_3.jpg is NOT an Airplane.\n",
      "\n",
      "girl_4.jpg is NOT an Airplane.\n",
      "\n",
      "airplane_8.jpg is an Airplane.\n",
      "\n",
      "Car_1.jpg is NOT an Airplane.\n",
      "\n",
      "cat_7.jpg is NOT an Airplane.\n",
      "\n",
      "cat_6.jpg is NOT an Airplane.\n",
      "\n",
      "Girl_1.jpg is NOT an Airplane.\n",
      "\n",
      "girl_3.jpg is NOT an Airplane.\n",
      "\n",
      "cat_4.jpg is NOT an Airplane.\n",
      "\n",
      "cat_5.jpg is NOT an Airplane.\n",
      "\n",
      "Girl_2.jpg is NOT an Airplane.\n",
      "\n"
     ]
    }
   ],
   "source": [
    "# Preprocess images\n",
    "image_batch, filenames = preprocess_binaryclass(image_dir='/Users/subhamgogoi/Pictures/Test-Images-BinaryClass')\n",
    "\n",
    "# Make predictions on the batch\n",
    "predictions = loaded_model.predict(image_batch)\n",
    "\n",
    "#Interpret the predictions\n",
    "for prediction, filename in zip(predictions, filenames):\n",
    "    if prediction > 0.5:\n",
    "        print(f\"{filename} is an Airplane.\\n\")\n",
    "    else:\n",
    "        print(f\"{filename} is NOT an Airplane.\\n\")"
   ]
  },
  {
   "cell_type": "code",
   "execution_count": 18,
   "id": "04cd6276-08bd-4eab-aa61-dae63b6b93b2",
   "metadata": {},
   "outputs": [
    {
     "name": "stdout",
     "output_type": "stream",
     "text": [
      "Accuracy on the batch of images: 96.43 %\n"
     ]
    }
   ],
   "source": [
    "# Evaluate loss and accuracy on a batch of 28 images\n",
    "true_labels = np.array([0,0,0,0,0,0,1,1,1,1,1,1,1,0,0,0,0,0,0,1,0,0,0,0,0,0,0,0])\n",
    "\n",
    "loss = tf.keras.losses.binary_crossentropy(true_labels, predictions).numpy().mean()\n",
    "# print(f\"Loss on the batch of images:{loss:.4f}\")\n",
    "\n",
    "predicted_classes = (predictions > 0.5).astype(int)\n",
    "accuracy = accuracy_score(true_labels, predicted_classes)\n",
    "print(f\"Accuracy on the batch of images: {accuracy * 100:.2f} %\")"
   ]
  },
  {
   "cell_type": "code",
   "execution_count": 20,
   "id": "5f194733-4171-423a-8e18-4fe9a6dabbd8",
   "metadata": {},
   "outputs": [
    {
     "name": "stdout",
     "output_type": "stream",
     "text": [
      "Motorcycle_1.jpg: 0.01560\n",
      "Motorcycle_2.jpg: 0.21441\n",
      "motorcycle_3.jpg: 0.30264\n",
      "motorcycle_6.jpg: 0.52620\n",
      "motorcycle_4.jpg: 0.00751\n",
      "motorcycle_5.jpg: 0.23095\n",
      "airplane_3.jpg: 0.94516\n",
      "airplane_2.jpg: 0.99903\n",
      "Airplane_1.jpg: 0.99964\n",
      "airplane_5.jpg: 0.67967\n",
      "airplane_4.jpg: 0.93015\n",
      "airplane_6.jpg: 0.99374\n",
      "airplane_7.jpg: 0.99997\n",
      "girl_6.jpg: 0.00247\n",
      "Cat_1.jpg: 0.00994\n",
      "girl_5.jpg: 0.00392\n",
      "Cat_2.jpg: 0.01131\n",
      "cat_3.jpg: 0.00256\n",
      "girl_4.jpg: 0.00897\n",
      "airplane_8.jpg: 0.99290\n",
      "Car_1.jpg: 0.01759\n",
      "cat_7.jpg: 0.02369\n",
      "cat_6.jpg: 0.01751\n",
      "Girl_1.jpg: 0.00005\n",
      "girl_3.jpg: 0.24489\n",
      "cat_4.jpg: 0.02122\n",
      "cat_5.jpg: 0.00260\n",
      "Girl_2.jpg: 0.00750\n"
     ]
    }
   ],
   "source": [
    "#Prediction probability value check for every single image\n",
    "for file, pred in zip(filenames, predictions):\n",
    "    print(f\"{file}: {float(pred):.5f}\")"
   ]
  }
 ],
 "metadata": {
  "kernelspec": {
   "display_name": "Python 3 (ipykernel)",
   "language": "python",
   "name": "python3"
  },
  "language_info": {
   "codemirror_mode": {
    "name": "ipython",
    "version": 3
   },
   "file_extension": ".py",
   "mimetype": "text/x-python",
   "name": "python",
   "nbconvert_exporter": "python",
   "pygments_lexer": "ipython3",
   "version": "3.8.16"
  }
 },
 "nbformat": 4,
 "nbformat_minor": 5
}
