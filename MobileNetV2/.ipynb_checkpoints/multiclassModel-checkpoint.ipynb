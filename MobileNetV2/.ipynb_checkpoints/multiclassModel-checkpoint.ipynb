{
 "cells": [
  {
   "cell_type": "code",
   "execution_count": 1,
   "id": "b69ab99c-2992-47cc-9f5e-edac9275bd6e",
   "metadata": {
    "tags": []
   },
   "outputs": [],
   "source": [
    "import numpy as np\n",
    "import os\n",
    "import matplotlib.pyplot as plt\n",
    "from sklearn.model_selection import train_test_split\n",
    "import tensorflow as tf\n",
    "import tensorflow.keras.layers as tfl\n",
    "from tensorflow.keras.datasets import cifar10\n",
    "from tensorflow.keras.applications import MobileNetV2\n",
    "from tensorflow.keras.preprocessing.image import ImageDataGenerator\n",
    "from PIL import Image"
   ]
  },
  {
   "cell_type": "markdown",
   "id": "8dec5d5f-3649-4fbf-8bc0-78e39e26abff",
   "metadata": {},
   "source": [
    "### _Load the data and split into Train and Test sets_"
   ]
  },
  {
   "cell_type": "code",
   "execution_count": 2,
   "id": "8280ac05-00c2-45af-b847-502bc73062de",
   "metadata": {
    "tags": []
   },
   "outputs": [],
   "source": [
    "(X_train, Y_train), (X_test, Y_test) = cifar10.load_data()"
   ]
  },
  {
   "cell_type": "code",
   "execution_count": 3,
   "id": "5126d6b5-b236-465b-a0ed-bf584fba61c3",
   "metadata": {
    "tags": []
   },
   "outputs": [
    {
     "name": "stdout",
     "output_type": "stream",
     "text": [
      "X_train shape:(50000, 32, 32, 3)\n",
      "Y_train shape:(50000, 1)\n",
      "X_test shape:(10000, 32, 32, 3)\n",
      "Y_test shape:(10000, 1)\n",
      "Number of training examples/images:50000\n",
      "Number of testing examples/images:10000\n"
     ]
    }
   ],
   "source": [
    "#Inspect the data\n",
    "print(f\"X_train shape:{X_train.shape}\")\n",
    "print(f\"Y_train shape:{Y_train.shape}\")\n",
    "print(f\"X_test shape:{X_test.shape}\")\n",
    "print(f\"Y_test shape:{Y_test.shape}\")\n",
    "print(f\"Number of training examples/images:{X_train.shape[0]}\")\n",
    "print(f\"Number of testing examples/images:{X_test.shape[0]}\")"
   ]
  },
  {
   "cell_type": "markdown",
   "id": "f89187c7-15e2-4752-94d0-4ee2795691c4",
   "metadata": {
    "tags": []
   },
   "source": [
    "### _Preprocessing pipeline_"
   ]
  },
  {
   "cell_type": "code",
   "execution_count": 4,
   "id": "bc4e0d30-a736-4c7a-9dd1-c26659d4d345",
   "metadata": {
    "tags": []
   },
   "outputs": [],
   "source": [
    "# Convert labels to one hot encoded vectors\n",
    "Y_train = tf.keras.utils.to_categorical(Y_train, num_classes=10)\n",
    "Y_test = tf.keras.utils.to_categorical(Y_test, num_classes=10)\n",
    "\n",
    "def resize_images(image_dataset, target_size=(224, 224), batch_size=100):\n",
    "    for i in range(0, len(image_dataset), batch_size):\n",
    "        image_batch = image_dataset[i:i+batch_size]\n",
    "        resized_batch = []\n",
    "        for image in image_batch:\n",
    "            pil_image = Image.fromarray(image)\n",
    "            pil_image = pil_image.resize(target_size)\n",
    "            image_arr = np.array(pil_image)\n",
    "            resized_batch.append(image_arr.astype('float32')/255)\n",
    "        yield np.array(resized_batch)\n",
    "        \n",
    "X_train_resized = []\n",
    "X_test_resized = []\n",
    "\n",
    "for batch in resize_images(X_train):\n",
    "    X_train_resized.append(batch)\n",
    "X_train_resized = np.concatenate(X_train_resized, axis=0)\n",
    "\n",
    "for batch in resize_images(X_test):\n",
    "    X_test_resized.append(batch)\n",
    "X_test_resized = np.concatenate(X_test_resized, axis=0)\n"
   ]
  },
  {
   "cell_type": "code",
   "execution_count": 5,
   "id": "6f857400-0725-43d2-a245-f149dd7788c6",
   "metadata": {
    "tags": []
   },
   "outputs": [],
   "source": [
    "X_train_split, X_val, Y_train_split, Y_val = train_test_split(X_train_resized, Y_train, test_size=0.2, random_state=42)"
   ]
  },
  {
   "cell_type": "code",
   "execution_count": 6,
   "id": "e5c63d81-5fa2-4ce9-9218-1afeb8905086",
   "metadata": {
    "tags": []
   },
   "outputs": [],
   "source": [
    "train_datagen = ImageDataGenerator(rotation_range=15, height_shift_range=0.1, width_shift_range=0.1, \n",
    "                                  horizontal_flip=True, fill_mode='nearest')\n",
    "test_datagen = ImageDataGenerator()\n",
    "\n",
    "train_generator = train_datagen.flow(X_train_split, Y_train_split, batch_size=32, shuffle=True)\n",
    "validation_generator = test_datagen.flow(X_val, Y_val, batch_size=32)\n",
    "\n",
    "test_generator = test_datagen.flow(X_test_resized, Y_test, batch_size=32)"
   ]
  },
  {
   "cell_type": "code",
   "execution_count": 7,
   "id": "631a000b-cf4c-476f-8591-6f908ef1f5d6",
   "metadata": {
    "tags": []
   },
   "outputs": [
    {
     "name": "stderr",
     "output_type": "stream",
     "text": [
      "2024-09-21 20:53:52.848998: I metal_plugin/src/device/metal_device.cc:1154] Metal device set to: Apple M1\n",
      "2024-09-21 20:53:52.849658: I metal_plugin/src/device/metal_device.cc:296] systemMemory: 16.00 GB\n",
      "2024-09-21 20:53:52.849669: I metal_plugin/src/device/metal_device.cc:313] maxCacheSize: 5.33 GB\n",
      "2024-09-21 20:53:52.850407: I tensorflow/core/common_runtime/pluggable_device/pluggable_device_factory.cc:303] Could not identify NUMA node of platform GPU ID 0, defaulting to 0. Your kernel may not have been built with NUMA support.\n",
      "2024-09-21 20:53:52.850756: I tensorflow/core/common_runtime/pluggable_device/pluggable_device_factory.cc:269] Created TensorFlow device (/job:localhost/replica:0/task:0/device:GPU:0 with 0 MB memory) -> physical PluggableDevice (device: 0, name: METAL, pci bus id: <undefined>)\n"
     ]
    }
   ],
   "source": [
    "# Load pre-trained MobileNetV2 model, excluding the top layers\n",
    "base_model = MobileNetV2(weights='imagenet', include_top=False, input_shape=(224, 224, 3))\n",
    "\n",
    "# Freeze the base model layers to avoid retraining\n",
    "for layer in base_model.layers:\n",
    "    layer.trainable = False"
   ]
  },
  {
   "cell_type": "code",
   "execution_count": 8,
   "id": "d61921e3-5064-4771-8ca4-64e18a86ef13",
   "metadata": {
    "tags": []
   },
   "outputs": [],
   "source": [
    "x = base_model.output\n",
    "x = tfl.GlobalAveragePooling2D()(x) \n",
    "x = tfl.Dropout(0.3)(x)  \n",
    "x = tfl.Dense(128, activation='relu')(x)  \n",
    "x = tfl.Dropout(0.3)(x)  \n",
    "output_layer = tfl.Dense(10, activation='softmax')(x)  \n",
    "\n",
    "# Create the complete model\n",
    "mobilenet_model = tf.keras.Model(inputs=base_model.input, outputs=output_layer)"
   ]
  },
  {
   "cell_type": "code",
   "execution_count": 9,
   "id": "00505485-b6b1-4c37-b946-34b474b16b5b",
   "metadata": {
    "tags": []
   },
   "outputs": [],
   "source": [
    "from tensorflow.keras.optimizers.legacy import Adam\n",
    "mobilenet_model.compile(optimizer=Adam(learning_rate=0.0001), loss='categorical_crossentropy', metrics=['accuracy'])"
   ]
  },
  {
   "cell_type": "code",
   "execution_count": 10,
   "id": "f1bf65e4-00eb-4fe9-8179-ca37e7ff6292",
   "metadata": {
    "tags": []
   },
   "outputs": [],
   "source": [
    "import gc\n",
    "import tensorflow as tf\n",
    "from tensorflow.keras import backend as K\n",
    "\n",
    "K.clear_session()\n",
    "gc.collect()\n",
    "tf.compat.v1.reset_default_graph()"
   ]
  },
  {
   "cell_type": "code",
   "execution_count": 11,
   "id": "c2d44a7c-d1c6-4731-bc49-4528fbd79877",
   "metadata": {
    "tags": []
   },
   "outputs": [
    {
     "name": "stdout",
     "output_type": "stream",
     "text": [
      "Epoch 1/50\n"
     ]
    },
    {
     "name": "stderr",
     "output_type": "stream",
     "text": [
      "2024-09-21 20:53:55.370676: I tensorflow/core/grappler/optimizers/custom_graph_optimizer_registry.cc:114] Plugin optimizer for device_type GPU is enabled.\n"
     ]
    },
    {
     "name": "stdout",
     "output_type": "stream",
     "text": [
      "1250/1250 [==============================] - ETA: 0s - loss: 1.4282 - accuracy: 0.5335"
     ]
    },
    {
     "name": "stderr",
     "output_type": "stream",
     "text": [
      "2024-09-21 20:58:12.427399: I tensorflow/core/grappler/optimizers/custom_graph_optimizer_registry.cc:114] Plugin optimizer for device_type GPU is enabled.\n"
     ]
    },
    {
     "name": "stdout",
     "output_type": "stream",
     "text": [
      "1250/1250 [==============================] - 295s 234ms/step - loss: 1.4282 - accuracy: 0.5335 - val_loss: 0.7181 - val_accuracy: 0.7487\n",
      "Epoch 2/50\n",
      "1250/1250 [==============================] - 289s 231ms/step - loss: 0.8960 - accuracy: 0.6943 - val_loss: 0.6365 - val_accuracy: 0.7777\n",
      "Epoch 3/50\n",
      "1250/1250 [==============================] - 286s 229ms/step - loss: 0.8074 - accuracy: 0.7243 - val_loss: 0.6038 - val_accuracy: 0.7917\n",
      "Epoch 4/50\n",
      "1250/1250 [==============================] - 290s 232ms/step - loss: 0.7642 - accuracy: 0.7410 - val_loss: 0.5948 - val_accuracy: 0.7925\n",
      "Epoch 5/50\n",
      "1250/1250 [==============================] - 285s 228ms/step - loss: 0.7400 - accuracy: 0.7469 - val_loss: 0.5708 - val_accuracy: 0.8011\n",
      "Epoch 6/50\n",
      "1250/1250 [==============================] - 288s 230ms/step - loss: 0.7247 - accuracy: 0.7521 - val_loss: 0.5617 - val_accuracy: 0.8028\n",
      "Epoch 7/50\n",
      "1250/1250 [==============================] - 286s 229ms/step - loss: 0.7015 - accuracy: 0.7583 - val_loss: 0.5754 - val_accuracy: 0.7996\n",
      "Epoch 8/50\n",
      "1250/1250 [==============================] - 288s 230ms/step - loss: 0.6910 - accuracy: 0.7642 - val_loss: 0.5507 - val_accuracy: 0.8043\n",
      "Epoch 9/50\n",
      "1250/1250 [==============================] - 285s 228ms/step - loss: 0.6862 - accuracy: 0.7663 - val_loss: 0.5346 - val_accuracy: 0.8142\n",
      "Epoch 10/50\n",
      "1250/1250 [==============================] - 287s 229ms/step - loss: 0.6770 - accuracy: 0.7677 - val_loss: 0.5511 - val_accuracy: 0.8045\n",
      "Epoch 11/50\n",
      "1250/1250 [==============================] - 287s 230ms/step - loss: 0.6715 - accuracy: 0.7686 - val_loss: 0.5464 - val_accuracy: 0.8077\n",
      "Epoch 12/50\n",
      "1250/1250 [==============================] - 289s 231ms/step - loss: 0.6660 - accuracy: 0.7696 - val_loss: 0.5288 - val_accuracy: 0.8122\n",
      "Epoch 13/50\n",
      "1250/1250 [==============================] - 285s 228ms/step - loss: 0.6592 - accuracy: 0.7728 - val_loss: 0.5291 - val_accuracy: 0.8121\n",
      "Epoch 14/50\n",
      "1250/1250 [==============================] - 288s 230ms/step - loss: 0.6568 - accuracy: 0.7742 - val_loss: 0.5253 - val_accuracy: 0.8142\n",
      "Epoch 15/50\n",
      "1250/1250 [==============================] - 288s 230ms/step - loss: 0.6513 - accuracy: 0.7757 - val_loss: 0.5176 - val_accuracy: 0.8173\n",
      "Epoch 16/50\n",
      "1250/1250 [==============================] - 289s 231ms/step - loss: 0.6378 - accuracy: 0.7780 - val_loss: 0.5319 - val_accuracy: 0.8100\n",
      "Epoch 17/50\n",
      "1250/1250 [==============================] - 286s 229ms/step - loss: 0.6493 - accuracy: 0.7760 - val_loss: 0.5232 - val_accuracy: 0.8128\n",
      "Epoch 18/50\n",
      "1250/1250 [==============================] - 285s 228ms/step - loss: 0.6366 - accuracy: 0.7798 - val_loss: 0.5141 - val_accuracy: 0.8182\n",
      "Epoch 19/50\n",
      "1250/1250 [==============================] - 287s 230ms/step - loss: 0.6420 - accuracy: 0.7774 - val_loss: 0.5257 - val_accuracy: 0.8114\n",
      "Epoch 20/50\n",
      "1250/1250 [==============================] - 291s 232ms/step - loss: 0.6327 - accuracy: 0.7802 - val_loss: 0.5177 - val_accuracy: 0.8170\n",
      "Epoch 21/50\n",
      "1250/1250 [==============================] - 290s 232ms/step - loss: 0.6331 - accuracy: 0.7809 - val_loss: 0.5182 - val_accuracy: 0.8178\n",
      "Epoch 22/50\n",
      "1250/1250 [==============================] - 290s 232ms/step - loss: 0.6368 - accuracy: 0.7807 - val_loss: 0.5090 - val_accuracy: 0.8206\n",
      "Epoch 23/50\n",
      "1250/1250 [==============================] - 288s 231ms/step - loss: 0.6330 - accuracy: 0.7815 - val_loss: 0.5225 - val_accuracy: 0.8152\n",
      "Epoch 24/50\n",
      "1250/1250 [==============================] - 289s 231ms/step - loss: 0.6248 - accuracy: 0.7853 - val_loss: 0.5062 - val_accuracy: 0.8218\n",
      "Epoch 25/50\n",
      "1250/1250 [==============================] - 287s 229ms/step - loss: 0.6284 - accuracy: 0.7829 - val_loss: 0.5118 - val_accuracy: 0.8196\n",
      "Epoch 26/50\n",
      "1250/1250 [==============================] - 286s 229ms/step - loss: 0.6303 - accuracy: 0.7849 - val_loss: 0.5130 - val_accuracy: 0.8167\n",
      "Epoch 27/50\n",
      "1250/1250 [==============================] - 286s 229ms/step - loss: 0.6281 - accuracy: 0.7830 - val_loss: 0.5100 - val_accuracy: 0.8193\n",
      "Epoch 28/50\n",
      "1250/1250 [==============================] - 285s 228ms/step - loss: 0.6273 - accuracy: 0.7846 - val_loss: 0.5151 - val_accuracy: 0.8192\n",
      "Epoch 29/50\n",
      "1250/1250 [==============================] - 288s 230ms/step - loss: 0.6226 - accuracy: 0.7859 - val_loss: 0.5125 - val_accuracy: 0.8197\n"
     ]
    }
   ],
   "source": [
    "from tensorflow.keras.callbacks import EarlyStopping\n",
    "early_stopping = EarlyStopping(monitor='val_loss', patience=5, restore_best_weights=True)\n",
    "\n",
    "mobileNet_history = mobilenet_model.fit(\n",
    "    train_generator,\n",
    "    epochs=50,\n",
    "    validation_data=validation_generator,\n",
    "    callbacks=[early_stopping],\n",
    "    steps_per_epoch=X_train_split.shape[0] // 32,\n",
    "    validation_steps=X_val.shape[0] // 32\n",
    ")"
   ]
  },
  {
   "cell_type": "code",
   "execution_count": 16,
   "id": "33315c09-53ac-4ba6-9598-78f513fec2aa",
   "metadata": {
    "tags": []
   },
   "outputs": [],
   "source": [
    "import gc\n",
    "import tensorflow as tf\n",
    "from tensorflow.keras import backend as K\n",
    "\n",
    "K.clear_session()\n",
    "gc.collect()\n",
    "tf.compat.v1.reset_default_graph()"
   ]
  },
  {
   "cell_type": "markdown",
   "id": "de604422-199e-4864-84b0-d486a2064484",
   "metadata": {},
   "source": [
    "### _Model evaluation_"
   ]
  },
  {
   "cell_type": "code",
   "execution_count": 15,
   "id": "41347498-eaca-4510-8805-6b54b8543c8f",
   "metadata": {
    "tags": []
   },
   "outputs": [
    {
     "name": "stderr",
     "output_type": "stream",
     "text": [
      "2024-09-22 02:21:22.218740: I tensorflow/core/grappler/optimizers/custom_graph_optimizer_registry.cc:114] Plugin optimizer for device_type GPU is enabled.\n"
     ]
    },
    {
     "name": "stdout",
     "output_type": "stream",
     "text": [
      "312/312 [==============================] - 38s 119ms/step - loss: 0.5185 - accuracy: 0.8235\n",
      "Multiclass classification test loss: 0.5185\n",
      "Multiclass classification test accuracy: 0.8235\n"
     ]
    }
   ],
   "source": [
    "multiclass_test_loss, multiclass_test_acc = mobilenet_model.evaluate(test_generator, steps=X_test_resized.shape[0] // 32)\n",
    "print(f\"Multiclass classification test loss: {multiclass_test_loss:.4f}\")\n",
    "print(f\"Multiclass classification test accuracy: {multiclass_test_acc:.4f}\")"
   ]
  },
  {
   "cell_type": "markdown",
   "id": "c71f13c4-bdea-4392-9205-3660336a11d1",
   "metadata": {},
   "source": [
    "### _Plot accuracy_"
   ]
  },
  {
   "cell_type": "code",
   "execution_count": 17,
   "id": "a948f6c6-0c42-4901-a1bf-f12009426037",
   "metadata": {
    "tags": []
   },
   "outputs": [
    {
     "data": {
      "image/png": "[encoded data removed]",
      "text/plain": [
       "<Figure size 640x480 with 1 Axes>"
      ]
     },
     "metadata": {},
     "output_type": "display_data"
    }
   ],
   "source": [
    "plt.plot(mobileNet_history.history['accuracy'])\n",
    "plt.plot(mobileNet_history.history['val_accuracy'])\n",
    "plt.title('Multiclass model accuracy')\n",
    "plt.ylabel('Accuracy')\n",
    "plt.xlabel('Epoch')\n",
    "plt.legend(['Train','Validation'], loc='lower right')\n",
    "plt.show()"
   ]
  },
  {
   "cell_type": "markdown",
   "id": "17a558c1-96be-45d0-b65b-02b0abeb76f8",
   "metadata": {},
   "source": [
    "### _Save and Load_"
   ]
  },
  {
   "cell_type": "code",
   "execution_count": 19,
   "id": "c1440f72-1d15-49ae-98d6-dc4dd594843c",
   "metadata": {
    "tags": []
   },
   "outputs": [],
   "source": [
    "mobilenet_model.save('/Users/subhamgogoi/Coding/Jupyter/Projects/CIFAR10-CNN-Classifier/MobileNetV2/mobileNetV2.h5')"
   ]
  }
 ],
 "metadata": {
  "kernelspec": {
   "display_name": "Python (tensorflow-test)",
   "language": "python",
   "name": "tensorflow-test"
  },
  "language_info": {
   "codemirror_mode": {
    "name": "ipython",
    "version": 3
   },
   "file_extension": ".py",
   "mimetype": "text/x-python",
   "name": "python",
   "nbconvert_exporter": "python",
   "pygments_lexer": "ipython3",
   "version": "3.8.16"
  }
 },
 "nbformat": 4,
 "nbformat_minor": 5
}
