{
 "cells": [
  {
   "cell_type": "code",
   "execution_count": 1,
   "id": "7f3b16de-56d1-47d4-bfb3-0236fdad47d7",
   "metadata": {
    "tags": []
   },
   "outputs": [
    {
     "name": "stderr",
     "output_type": "stream",
     "text": [
      "2024-09-22 21:14:24.488735: I metal_plugin/src/device/metal_device.cc:1154] Metal device set to: Apple M1\n",
      "2024-09-22 21:14:24.488761: I metal_plugin/src/device/metal_device.cc:296] systemMemory: 16.00 GB\n",
      "2024-09-22 21:14:24.488767: I metal_plugin/src/device/metal_device.cc:313] maxCacheSize: 5.33 GB\n",
      "2024-09-22 21:14:24.488800: I tensorflow/core/common_runtime/pluggable_device/pluggable_device_factory.cc:303] Could not identify NUMA node of platform GPU ID 0, defaulting to 0. Your kernel may not have been built with NUMA support.\n",
      "2024-09-22 21:14:24.488817: I tensorflow/core/common_runtime/pluggable_device/pluggable_device_factory.cc:269] Created TensorFlow device (/job:localhost/replica:0/task:0/device:GPU:0 with 0 MB memory) -> physical PluggableDevice (device: 0, name: METAL, pci bus id: <undefined>)\n"
     ]
    }
   ],
   "source": [
    "import sys\n",
    "import os\n",
    "from tensorflow.keras.models import load_model\n",
    "import numpy as np\n",
    "from PIL import Image\n",
    "from sklearn.metrics import accuracy_score\n",
    "import tensorflow as tf\n",
    "\n",
    "parent_directory = os.path.abspath('/Users/subhamgogoi/Coding/Jupyter/Projects/CIFAR10-CNN-Classifier')\n",
    "if parent_directory not in sys.path:\n",
    "    sys.path.append(parent_directory)\n",
    "\n",
    "from image_preprocessing import preprocess_multiclass\n",
    "from image_labelling import auto_label_images\n",
    "\n",
    "mobileNetV2_model = load_model('mobileNetV2.h5')"
   ]
  },
  {
   "cell_type": "markdown",
   "id": "f93c653a-c1d5-431f-aa0f-35fb6f135549",
   "metadata": {
    "tags": []
   },
   "source": [
    "### Prediction on a single image"
   ]
  },
  {
   "cell_type": "code",
   "execution_count": 2,
   "id": "3fb399e5-2235-4b03-90f0-84a09ed0ac72",
   "metadata": {
    "tags": []
   },
   "outputs": [
    {
     "name": "stderr",
     "output_type": "stream",
     "text": [
      "2024-09-22 21:14:26.482941: I tensorflow/core/grappler/optimizers/custom_graph_optimizer_registry.cc:114] Plugin optimizer for device_type GPU is enabled.\n"
     ]
    },
    {
     "name": "stdout",
     "output_type": "stream",
     "text": [
      "1/1 [==============================] - 1s 848ms/step\n",
      "Predicted class: Airplane\n",
      "Test loss on Airplane_1.jpg - 0.015\n",
      "Test accuracy on Airplane_1.jpg - 1.0\n"
     ]
    }
   ],
   "source": [
    "image_path = '/Users/subhamgogoi/Pictures/testImages-multiClass/Airplane/Airplane_1.jpg'\n",
    "img_name = os.path.basename(image_path)\n",
    "image = Image.open(image_path)\n",
    "\n",
    "image = image.resize((224,224))\n",
    "image_array = np.array(image)\n",
    "image_array = image_array / 255.0\n",
    "image_array = np.reshape(image_array, (1,224,224,3))\n",
    "\n",
    "prediction = mobileNetV2_model.predict(image_array)\n",
    "predicted_class = np.argmax(prediction)\n",
    "class_names = ['Airplane', 'Car', 'Bird', 'Cat', 'Deer', 'Dog', 'Frog', 'Horse', 'Ship', 'Truck']\n",
    "class_index = {class_name:i for i, class_name in enumerate(class_names)}\n",
    "print(f\"Predicted class: {class_names[predicted_class]}\")\n",
    "# print(f'Class indices - {class_index}')\n",
    "\n",
    "# Evaluate loss and accuracy\n",
    "true_class_name = os.path.basename(os.path.dirname(image_path))\n",
    "true_class_index = class_index[true_class_name]\n",
    "true_class_index_hotencoded = tf.keras.utils.to_categorical(true_class_index, num_classes=10)\n",
    "true_class_index_hotencoded = np.reshape(true_class_index_hotencoded, (1,10))\n",
    "\n",
    "loss = tf.keras.losses.categorical_crossentropy(true_class_index_hotencoded, prediction)\n",
    "print(f'Test loss on {img_name} - {loss[0]:.3f}')\n",
    "\n",
    "accuracy = accuracy_score([true_class_index], [predicted_class])\n",
    "print(f'Test accuracy on {img_name} - {accuracy}')"
   ]
  },
  {
   "cell_type": "markdown",
   "id": "703d758c-1ebc-471e-8ae1-ff183144c2ca",
   "metadata": {},
   "source": [
    "### Prediction on a batch of images"
   ]
  },
  {
   "cell_type": "code",
   "execution_count": 3,
   "id": "aff49362-2593-41bb-bef9-ba984a90f80e",
   "metadata": {
    "tags": []
   },
   "outputs": [
    {
     "name": "stdout",
     "output_type": "stream",
     "text": [
      "Populated 66 images\n",
      "3/3 [==============================] - 1s 272ms/step\n",
      "Airplane_1.jpg is predicted as: Airplane\n",
      "Bird_1.jpg is predicted as: Bird\n",
      "Bird_2.jpg is predicted as: Bird\n",
      "Bird_3.jpg is predicted as: Bird\n",
      "Bird_4.jpg is predicted as: Bird\n",
      "Bird_5.jpg is predicted as: Bird\n",
      "Bird_6.jpg is predicted as: Bird\n",
      "Car_1.jpg is predicted as: Truck\n",
      "Cat_1.jpg is predicted as: Cat\n",
      "Cat_2.jpg is predicted as: Cat\n",
      "airplane_2.jpg is predicted as: Airplane\n",
      "airplane_3.jpg is predicted as: Airplane\n",
      "airplane_4.jpg is predicted as: Airplane\n",
      "airplane_5.jpg is predicted as: Airplane\n",
      "airplane_6.jpg is predicted as: Airplane\n",
      "airplane_7.jpg is predicted as: Airplane\n",
      "airplane_8.jpg is predicted as: Airplane\n",
      "car_2.jpg is predicted as: Car\n",
      "car_3.jpg is predicted as: Car\n",
      "car_4.jpg is predicted as: Car\n",
      "car_5.jpg is predicted as: Car\n",
      "car_6.jpg is predicted as: Car\n",
      "car_7.jpg is predicted as: Car\n",
      "cat_3.jpg is predicted as: Cat\n",
      "cat_4.jpg is predicted as: Cat\n",
      "cat_5.jpg is predicted as: Cat\n",
      "cat_6.jpg is predicted as: Cat\n",
      "cat_7.jpg is predicted as: Cat\n",
      "deer_1.jpg is predicted as: Deer\n",
      "deer_2.jpg is predicted as: Deer\n",
      "deer_3.jpg is predicted as: Deer\n",
      "deer_4.jpg is predicted as: Deer\n",
      "deer_5.jpg is predicted as: Deer\n",
      "deer_7.jpg is predicted as: Deer\n",
      "dog_1.jpg is predicted as: Dog\n",
      "dog_2.jpg is predicted as: Dog\n",
      "dog_3.jpg is predicted as: Dog\n",
      "dog_4.jpg is predicted as: Dog\n",
      "dog_5.jpg is predicted as: Dog\n",
      "dog_6.jpg is predicted as: Dog\n",
      "dog_7.jpg is predicted as: Bird\n",
      "dog_8.jpg is predicted as: Dog\n",
      "dog_9.jpg is predicted as: Dog\n",
      "frog_1.jpg is predicted as: Frog\n",
      "frog_2.jpg is predicted as: Frog\n",
      "frog_3.jpg is predicted as: Frog\n",
      "frog_4.jpg is predicted as: Frog\n",
      "frog_5.jpg is predicted as: Frog\n",
      "horse_1.jpg is predicted as: Horse\n",
      "horse_2.jpg is predicted as: Deer\n",
      "horse_3.jpg is predicted as: Bird\n",
      "horse_4.jpg is predicted as: Horse\n",
      "horse_5.jpg is predicted as: Horse\n",
      "horse_6.jpg is predicted as: Horse\n",
      "ship_1.jpg is predicted as: Ship\n",
      "ship_2.jpg is predicted as: Ship\n",
      "ship_3.jpg is predicted as: Ship\n",
      "ship_4.jpg is predicted as: Ship\n",
      "ship_5.jpg is predicted as: Ship\n",
      "ship_6.jpg is predicted as: Ship\n",
      "truck_1.jpg is predicted as: Truck\n",
      "truck_2.jpg is predicted as: Truck\n",
      "truck_3.jpg is predicted as: Truck\n",
      "truck_4.jpg is predicted as: Truck\n",
      "truck_5.jpg is predicted as: Truck\n",
      "truck_6.jpg is predicted as: Truck\n"
     ]
    }
   ],
   "source": [
    "# Preprocess the images\n",
    "image_dir = '/Users/subhamgogoi/Pictures/testImages-multiClass'\n",
    "\n",
    "image_batch, filenames_predictions = preprocess_multiclass(image_dir)\n",
    "true_labels, filenames_original = auto_label_images(image_dir)\n",
    "\n",
    "# Sort filenames and true_labels to match the order in preprocess_multiclass\n",
    "filename_to_label = dict(zip(filenames_original, true_labels))\n",
    "true_labels = [filename_to_label[fname] for fname in filenames_predictions]\n",
    "\n",
    "# Make predictions on the batch\n",
    "predictions = mobileNetV2_model.predict(image_batch)\n",
    "\n",
    "# Define CIFAR-10 class names\n",
    "class_names = ['Airplane', 'Car', 'Bird', 'Cat', 'Deer', 'Dog', 'Frog', 'Horse', 'Ship', 'Truck']\n",
    "\n",
    "# Interpret and print predictions\n",
    "predicted_classes = np.argmax(predictions, axis=1)\n",
    "for pred_class, filename in zip(predicted_classes, filenames_predictions):\n",
    "    print(f\"{filename} is predicted as: {class_names[pred_class]}\")"
   ]
  },
  {
   "cell_type": "markdown",
   "id": "23ace129-1f56-4081-8eca-d95fc8747a59",
   "metadata": {},
   "source": [
    "### Evaluate loss and accuracy"
   ]
  },
  {
   "cell_type": "code",
   "execution_count": 4,
   "id": "60bcadb3-8259-41ff-a4d7-86c012e9e270",
   "metadata": {},
   "outputs": [],
   "source": [
    "true_labels_hot_encoded = tf.keras.utils.to_categorical(true_labels, num_classes=10)"
   ]
  },
  {
   "cell_type": "code",
   "execution_count": 7,
   "id": "0e819ed8-7037-4fd9-9637-f1f5e25f32fd",
   "metadata": {
    "tags": []
   },
   "outputs": [
    {
     "name": "stdout",
     "output_type": "stream",
     "text": [
      "Loss: 0.312\n",
      "Test accuracy : 93.94 %\n"
     ]
    }
   ],
   "source": [
    "loss = tf.keras.losses.categorical_crossentropy(true_labels_hot_encoded, predictions).numpy().mean()\n",
    "print(f\"Loss: {loss:.3f}\")\n",
    "\n",
    "test_acc = accuracy_score(true_labels, predicted_classes)\n",
    "print(f\"Test accuracy : {test_acc * 100 :.2f} %\")"
   ]
  }
 ],
 "metadata": {
  "kernelspec": {
   "display_name": "Python 3 (ipykernel)",
   "language": "python",
   "name": "python3"
  },
  "language_info": {
   "codemirror_mode": {
    "name": "ipython",
    "version": 3
   },
   "file_extension": ".py",
   "mimetype": "text/x-python",
   "name": "python",
   "nbconvert_exporter": "python",
   "pygments_lexer": "ipython3",
   "version": "3.8.16"
  }
 },
 "nbformat": 4,
 "nbformat_minor": 5
}
